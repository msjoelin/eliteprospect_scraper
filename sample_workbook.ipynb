{
 "cells": [
  {
   "cell_type": "code",
   "execution_count": null,
   "metadata": {},
   "outputs": [],
   "source": [
    "from eliteprospect import eliteprospect_scraper as ep\n",
    "import numpy as np\n",
    "import pandas as pd"
   ]
  },
  {
   "cell_type": "code",
   "execution_count": null,
   "metadata": {},
   "outputs": [],
   "source": [
    "help(ep)"
   ]
  },
  {
   "cell_type": "code",
   "execution_count": null,
   "metadata": {},
   "outputs": [],
   "source": [
    "# Print leagues\n",
    "df_leagues = pd.read_csv(\"https://raw.githubusercontent.com/msjoelin/eliteprospect_scraper/master/data/leagues.csv\", \n",
    "                           error_bad_lines=False,\n",
    "                          dtype=str)\n",
    "\n",
    "df_leagues.head()"
   ]
  },
  {
   "cell_type": "code",
   "execution_count": null,
   "metadata": {},
   "outputs": [],
   "source": [
    "# Get players from two seasons and concatenate the output\n",
    "shl_2012 = ep.getPlayers('shl', '2012-2013')\n",
    "shl_2013 = ep.getPlayers('shl', '2013-2014')\n",
    "players = pd.concat([shl_2012,shl_2013])"
   ]
  },
  {
   "cell_type": "code",
   "execution_count": null,
   "metadata": {},
   "outputs": [],
   "source": [
    "# Use the output from getPlayers as input to getTeamStat and getSeasonStat\n",
    "teamstat = ep.getTeamStat(players)\n",
    "seasonstat = ep.getSeasonStat(players)\n",
    "\n",
    "print(seasonstat)\n",
    "print(teamstat.head())"
   ]
  },
  {
   "cell_type": "code",
   "execution_count": null,
   "metadata": {},
   "outputs": [],
   "source": [
    "# Create metadata from players dataframe\n",
    "playersmeta = ep.getPlayerMetadata(players)\n",
    "playersmeta.head()"
   ]
  },
  {
   "cell_type": "code",
   "execution_count": null,
   "metadata": {},
   "outputs": [],
   "source": [
    "# Get the links to the first 5 players and send to function getPLayerStats\n",
    "playerlinks = playersmeta['link'].head(n=5)\n",
    "playerlinks\n",
    "\n",
    "playerstats=ep.getPlayerStats(playerlinks)\n",
    "playerstats.head()"
   ]
  },
  {
   "cell_type": "code",
   "execution_count": null,
   "metadata": {},
   "outputs": [],
   "source": [
    "# Clean output from playerstats\n",
    "players_cleaned = ep.dataprep_players(playerstats)\n",
    "\n",
    "players_cleaned.head()"
   ]
  },
  {
   "cell_type": "code",
   "execution_count": null,
   "metadata": {},
   "outputs": [],
   "source": [
    "# Add comparison player vs team\n",
    "    df_stats_primary['g_vs_team'] = (df_stats_primary['avg_g'] - df_stats_primary['avg_g_team']) / df_stats_primary['avg_g_team']\n",
    "    df_stats_primary['a_vs_team'] = (df_stats_primary['avg_a'] - df_stats_primary['avg_a_team']) / df_stats_primary['avg_a_team']\n",
    "    df_stats_primary['tp_vs_team'] = (df_stats_primary['avg_tp'] - df_stats_primary['avg_tp_team']) / df_stats_primary['avg_tp_team']\n",
    "    df_stats_primary['pim_vs_team'] = (df_stats_primary['avg_pim'] - df_stats_primary['avg_pim_team']) / df_stats_primary['avg_pim_team']\n",
    "    df_stats_primary['+/-_vs_team'] = (df_stats_primary['+/-'] - df_stats_primary['avg_+/-_team']) \n",
    "    \n",
    "    # Add comparison player vs total\n",
    "    df_stats_primary['g_vs_total'] = (df_stats_primary['avg_g'] - df_stats_primary['avg_g_season']) / df_stats_primary['avg_g_season']\n",
    "    df_stats_primary['a_vs_total'] = (df_stats_primary['avg_a'] - df_stats_primary['avg_a_season']) / df_stats_primary['avg_a_season']\n",
    "    df_stats_primary['tp_vs_total'] = (df_stats_primary['avg_tp'] - df_stats_primary['avg_tp_season']) / df_stats_primary['avg_tp_season']\n",
    "    df_stats_primary['pim_vs_total'] = (df_stats_primary['avg_pim'] - df_stats_primary['avg_pim_season']) / df_stats_primary['avg_pim_season']\n",
    "    df_stats_primary['+/-_vs_total'] = (df_stats_primary['+/-'] - df_stats_primary['avg_+/-_season']) \n",
    "    \n",
    "    # Add comparison team vs total\n",
    "    df_stats_primary['g_team_vs_total'] = (df_stats_primary['avg_g_team'] - df_stats_primary['avg_g_season']) / df_stats_primary['avg_g_season']\n",
    "    df_stats_primary['a_team_vs_total'] = (df_stats_primary['avg_a_team'] - df_stats_primary['avg_a_season']) / df_stats_primary['avg_a_season']\n",
    "    df_stats_primary['tp_team_vs_total'] = (df_stats_primary['avg_tp_team'] - df_stats_primary['avg_tp_season']) / df_stats_primary['avg_tp_season']\n",
    "    df_stats_primary['pim_team_vs_total'] = (df_stats_primary['avg_pim_team'] - df_stats_primary['avg_pim_season']) / df_stats_primary['avg_pim_season']\n",
    "    df_stats_primary['+/-_team_vs_total'] = (df_stats_primary['avg_+/-_team'] - df_stats_primary['avg_+/-_season']) \n",
    "    \n",
    "    \n",
    "    # Add data for previous season\n",
    "    df_stats_primary = df_stats_primary.sort_values(['link', 'season'])\n",
    "    \n",
    "    cols_to_shift = df_stats_primary.columns[~df_stats_primary.columns.isin(['player', 'link', 'captain', 'season', \n",
    "                                                                             'league_season', 'primary_team', 'fw_def'])]\n",
    "    \n",
    "    df_stats_primary[cols_to_shift + '_prev'] =  df_stats_primary.groupby(['link'])[cols_to_shift].shift(1)\n",
    "    "
   ]
  }
 ],
 "metadata": {
  "kernelspec": {
   "display_name": "Python 3",
   "language": "python",
   "name": "python3"
  },
  "language_info": {
   "codemirror_mode": {
    "name": "ipython",
    "version": 3
   },
   "file_extension": ".py",
   "mimetype": "text/x-python",
   "name": "python",
   "nbconvert_exporter": "python",
   "pygments_lexer": "ipython3",
   "version": "3.7.6"
  }
 },
 "nbformat": 4,
 "nbformat_minor": 4
}
