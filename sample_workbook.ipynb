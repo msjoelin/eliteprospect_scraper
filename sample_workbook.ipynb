{
 "cells": [
  {
   "cell_type": "code",
   "execution_count": null,
   "metadata": {},
   "outputs": [],
   "source": [
    "from eliteprospect import eliteprospect_scraper as ep\n",
    "import numpy as np\n",
    "import pandas as pd"
   ]
  },
  {
   "cell_type": "code",
   "execution_count": null,
   "metadata": {},
   "outputs": [],
   "source": [
    "help(ep)"
   ]
  },
  {
   "cell_type": "code",
   "execution_count": null,
   "metadata": {},
   "outputs": [],
   "source": [
    "# Print leagues\n",
    "df_leagues = pd.read_csv(\"https://raw.githubusercontent.com/msjoelin/eliteprospect_scraper/master/data/leagues.csv\", \n",
    "                          dtype=str)\n",
    "\n",
    "df_leagues.head()"
   ]
  },
  {
   "cell_type": "code",
   "execution_count": null,
   "metadata": {},
   "outputs": [],
   "source": [
    "# Get players from two seasons and concatenate the output\n",
    "shl_2012 = ep.getPlayers('shl', '2012-2013')\n",
    "shl_2013 = ep.getPlayers('shl', '2013-2014')\n",
    "players = pd.concat([shl_2012,shl_2013])"
   ]
  },
  {
   "cell_type": "code",
   "execution_count": null,
   "metadata": {},
   "outputs": [],
   "source": [
    "# Use the output from getPlayers as input to getTeamStat and getSeasonStat\n",
    "teamstat = ep.getTeamStat(players)\n",
    "seasonstat = ep.getSeasonStat(players)\n",
    "\n",
    "print(seasonstat)\n",
    "print(teamstat.head())"
   ]
  },
  {
   "cell_type": "code",
   "execution_count": null,
   "metadata": {},
   "outputs": [],
   "source": [
    "# Create metadata from players dataframe\n",
    "playersmeta = ep.getPlayerMetadata(players)\n",
    "playersmeta.head()"
   ]
  },
  {
   "cell_type": "code",
   "execution_count": null,
   "metadata": {},
   "outputs": [],
   "source": [
    "# Get the links to the first 5 players and send to function getPLayerStats\n",
    "playerlinks = playersmeta['link'].head(n=5)\n",
    "playerlinks\n",
    "\n",
    "playerstats=ep.getPlayerStats(playerlinks)\n",
    "playerstats.head()"
   ]
  },
  {
   "cell_type": "code",
   "execution_count": null,
   "metadata": {},
   "outputs": [],
   "source": [
    "# Clean output from playerstats\n",
    "players_cleaned = ep.dataprep_players(playerstats)\n",
    "\n",
    "players_cleaned.head()"
   ]
  }
 ],
 "metadata": {
  "kernelspec": {
   "display_name": "Python 3",
   "language": "python",
   "name": "python3"
  },
  "language_info": {
   "codemirror_mode": {
    "name": "ipython",
    "version": 3
   },
   "file_extension": ".py",
   "mimetype": "text/x-python",
   "name": "python",
   "nbconvert_exporter": "python",
   "pygments_lexer": "ipython3",
   "version": "3.12.4"
  }
 },
 "nbformat": 4,
 "nbformat_minor": 4
}
